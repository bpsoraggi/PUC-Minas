{
  "nbformat": 4,
  "nbformat_minor": 0,
  "metadata": {
    "colab": {
      "provenance": []
    },
    "kernelspec": {
      "name": "python3",
      "display_name": "Python 3"
    },
    "language_info": {
      "name": "python"
    }
  },
  "cells": [
    {
      "cell_type": "code",
      "execution_count": null,
      "metadata": {
        "id": "yh-yJgv_wWDp",
        "colab": {
          "base_uri": "https://localhost:8080/"
        },
        "outputId": "127dc8b7-2134-4fc5-e3b0-2d61dc170a18"
      },
      "outputs": [
        {
          "output_type": "stream",
          "name": "stdout",
          "text": [
            "Requirement already satisfied: chefboost in /usr/local/lib/python3.10/dist-packages (0.0.17)\n",
            "Requirement already satisfied: pandas>=0.22.0 in /usr/local/lib/python3.10/dist-packages (from chefboost) (1.5.3)\n",
            "Requirement already satisfied: numpy>=1.14.0 in /usr/local/lib/python3.10/dist-packages (from chefboost) (1.23.5)\n",
            "Requirement already satisfied: tqdm>=4.30.0 in /usr/local/lib/python3.10/dist-packages (from chefboost) (4.66.1)\n",
            "Requirement already satisfied: psutil>=5.4.3 in /usr/local/lib/python3.10/dist-packages (from chefboost) (5.9.5)\n",
            "Requirement already satisfied: python-dateutil>=2.8.1 in /usr/local/lib/python3.10/dist-packages (from pandas>=0.22.0->chefboost) (2.8.2)\n",
            "Requirement already satisfied: pytz>=2020.1 in /usr/local/lib/python3.10/dist-packages (from pandas>=0.22.0->chefboost) (2023.3.post1)\n",
            "Requirement already satisfied: six>=1.5 in /usr/local/lib/python3.10/dist-packages (from python-dateutil>=2.8.1->pandas>=0.22.0->chefboost) (1.16.0)\n",
            "[INFO]:  1 CPU cores will be allocated in parallel running\n",
            "ID3  tree is going to be built...\n",
            "-------------------------\n",
            "finished in  1.186166524887085  seconds\n",
            "-------------------------\n",
            "Evaluate  train set\n",
            "-------------------------\n",
            "Accuracy:  92.85714285714286 % on  14  instances\n",
            "Labels:  ['Alto' 'Moderado' 'Baixo']\n",
            "Confusion matrix:  [[6, 0, 1], [0, 3, 0], [0, 0, 4]]\n",
            "Decision  Alto  => Accuray:  92.8571 %, Precision:  85.7143 %, Recall:  100.0 %, F1:  92.3077 %\n",
            "Decision  Moderado  => Accuray:  100.0 %, Precision:  100.0 %, Recall:  100.0 %, F1:  100.0 %\n",
            "Decision  Baixo  => Accuray:  92.8571 %, Precision:  100.0 %, Recall:  80.0 %, F1:  88.8889 %\n",
            "[INFO]:  1 CPU cores will be allocated in parallel running\n",
            "C4.5  tree is going to be built...\n",
            "-------------------------\n",
            "finished in  1.9119620323181152  seconds\n",
            "-------------------------\n",
            "Evaluate  train set\n",
            "-------------------------\n",
            "Accuracy:  92.85714285714286 % on  14  instances\n",
            "Labels:  ['Alto' 'Moderado' 'Baixo']\n",
            "Confusion matrix:  [[6, 0, 1], [0, 3, 0], [0, 0, 4]]\n",
            "Decision  Alto  => Accuray:  92.8571 %, Precision:  85.7143 %, Recall:  100.0 %, F1:  92.3077 %\n",
            "Decision  Moderado  => Accuray:  100.0 %, Precision:  100.0 %, Recall:  100.0 %, F1:  100.0 %\n",
            "Decision  Baixo  => Accuray:  92.8571 %, Precision:  100.0 %, Recall:  80.0 %, F1:  88.8889 %\n",
            "[INFO]:  1 CPU cores will be allocated in parallel running\n",
            "CART  tree is going to be built...\n",
            "-------------------------\n",
            "finished in  1.7023437023162842  seconds\n",
            "-------------------------\n",
            "Evaluate  train set\n",
            "-------------------------\n",
            "Accuracy:  92.85714285714286 % on  14  instances\n",
            "Labels:  ['Alto' 'Moderado' 'Baixo']\n",
            "Confusion matrix:  [[6, 0, 1], [0, 3, 0], [0, 0, 4]]\n",
            "Decision  Alto  => Accuray:  92.8571 %, Precision:  85.7143 %, Recall:  100.0 %, F1:  92.3077 %\n",
            "Decision  Moderado  => Accuray:  100.0 %, Precision:  100.0 %, Recall:  100.0 %, F1:  100.0 %\n",
            "Decision  Baixo  => Accuray:  92.8571 %, Precision:  100.0 %, Recall:  80.0 %, F1:  88.8889 %\n"
          ]
        }
      ],
      "source": [
        "!pip install chefboost\n",
        "\n",
        "import pandas as pd\n",
        "from chefboost import Chefboost as chef\n",
        "\n",
        "# Carregar dados do arquivo .csv\n",
        "data = pd.read_csv(\"/content/questao5.csv\", sep=';')\n",
        "\n",
        "# ID3\n",
        "config = {'algorithm': 'ID3'}\n",
        "ID3model = chef.fit(data, config = config, target_label = 'Risco')\n",
        "chef.save_model(ID3model, \"ID3model.pkl\")\n",
        "\n",
        "# C4.5\n",
        "config = {'algorithm': 'C4.5'}\n",
        "C45model = chef.fit(data, config = config, target_label = 'Risco')\n",
        "chef.save_model(C45model, \"C45model.pkl\")\n",
        "\n",
        "# CART\n",
        "config = {'algorithm': 'CART'}\n",
        "CARTmodel = chef.fit(data, config = config, target_label = 'Risco')\n",
        "chef.save_model(CARTmodel, \"CARTmodel.pkl\")"
      ]
    }
  ]
}
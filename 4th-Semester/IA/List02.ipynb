{
  "nbformat": 4,
  "nbformat_minor": 0,
  "metadata": {
    "colab": {
      "provenance": []
    },
    "kernelspec": {
      "name": "python3",
      "display_name": "Python 3"
    },
    "language_info": {
      "name": "python"
    }
  },
  "cells": [
    {
      "cell_type": "code",
      "execution_count": null,
      "metadata": {
        "id": "f20cNirZkt1U"
      },
      "outputs": [],
      "source": [
        "import pandas as pd\n",
        "import numpy as np\n",
        "from sklearn.preprocessing import LabelEncoder, OneHotEncoder\n",
        "from sklearn.compose import ColumnTransformer\n",
        "from sklearn.model_selection import train_test_split\n",
        "from sklearn.tree import DecisionTreeClassifier, plot_tree\n",
        "from sklearn.metrics import accuracy_score, confusion_matrix, classification_report\n",
        "from yellowbrick.classifier import ConfusionMatrix\n",
        "import matplotlib.pyplot as plt\n",
        "\n",
        "# Carregar dados do arquivo .csv\n",
        "dataframe = pd.read_csv(\"/content/restaurantev2.csv\", sep=';')\n",
        "\n",
        "# Definir atributos e resultados de classificacao\n",
        "attributes = dataframe.iloc[:, 1:11].values\n",
        "attributes_label = dataframe.iloc[:, 1:11]\n",
        "classification = dataframe.iloc[:, 11].values\n",
        "\n",
        "# Pre-processamento de atributos categoricos\n",
        "\n",
        "# Comecando com LabelEncoder() para atributos ordenados e binarios\n",
        "categorical_cols = [0, 1, 2, 3, 6, 7]\n",
        "label_encoders = [LabelEncoder() for _ in range(len(categorical_cols))]\n",
        "\n",
        "for i, col in enumerate(categorical_cols):\n",
        "    attributes[:, col] = label_encoders[i].fit_transform(attributes[:, col])\n",
        "\n",
        "classification = LabelEncoder().fit_transform(classification)\n",
        "\n",
        "# Converter atributos nao ordinarios com OneHotEncoder\n",
        "categorical_cols = [4, 5, 8, 9]\n",
        "ct = ColumnTransformer(transformers=[('OneHot', OneHotEncoder(), categorical_cols)], remainder='passthrough')\n",
        "attributes = ct.fit_transform(attributes)\n",
        "\n",
        "# Dividir o conjunto de dados em treinamento e teste\n",
        "att_train, att_test, result_train, result_test = train_test_split(attributes, classification, test_size=0.20, random_state=23)\n",
        "\n",
        "# Implementar o algoritmo de arvore\n",
        "model = DecisionTreeClassifier(criterion='entropy')\n",
        "model.fit(att_train, result_train)\n",
        "\n",
        "# Testando o modelo\n",
        "predicts = model.predict(att_test)\n",
        "\n",
        "accuracy = accuracy_score(result_test, predicts)\n",
        "\n",
        "# Construir a matriz de confusao\n",
        "conf_matrix = confusion_matrix(result_test, predicts)\n",
        "\n",
        "# Visualizar a matriz de confusao\n",
        "cm = ConfusionMatrix(model)\n",
        "cm.fit(att_train, result_train)\n",
        "cm.score(att_test, result_test)\n",
        "\n",
        "# Relatorio de classificacao\n",
        "class_report = classification_report(result_test, predicts)\n",
        "\n",
        "# Plotar a arvore de decisao\n",
        "plt.figure(figsize=(12, 8))\n",
        "plot_tree(model, feature_names=None, class_names=None, filled=True, rounded=True)\n",
        "plt.show()\n",
        "\n",
        "# Printar resultados\n",
        "print(f\"Accuracy: {accuracy}\")\n",
        "print(\"Confusion Matrix:\")\n",
        "print(conf_matrix)\n",
        "print(\"Classification Report:\")\n",
        "print(class_report)\n"
      ]
    }
  ]
}
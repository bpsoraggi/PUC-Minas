{
  "nbformat": 4,
  "nbformat_minor": 0,
  "metadata": {
    "colab": {
      "provenance": []
    },
    "kernelspec": {
      "name": "python3",
      "display_name": "Python 3"
    },
    "language_info": {
      "name": "python"
    }
  },
  "cells": [
    {
      "cell_type": "markdown",
      "source": [
        "# Questão 03"
      ],
      "metadata": {
        "id": "dsjQdmKC4BX2"
      }
    },
    {
      "cell_type": "code",
      "execution_count": null,
      "metadata": {
        "id": "kbZ9mFLw100W"
      },
      "outputs": [],
      "source": [
        "!pip install apyori\n",
        "\n",
        "import pandas as pd\n",
        "from apyori import apriori\n",
        "\n",
        "base = pd.read_csv('/content/sample_data/pasta de dente python SIM.csv', ';', encoding='cp1252', header=None)\n",
        "\n",
        "transacoes = []\n",
        "for i in range(len(base)):\n",
        "    transacoes.append([str(base.values[i, j]) for j in range(base.shape[1])])\n",
        "\n",
        "regras = apriori(transacoes, min_support=0.6, min_confidence=0.7)\n",
        "saida = list(regras)\n",
        "\n",
        "Antecedente = []\n",
        "Consequente = []\n",
        "suporte = []\n",
        "\n",
        "for resultado in saida:\n",
        "    s = resultado.support\n",
        "    for item in resultado.items:\n",
        "        Antecedente.append(\", \".join(item))\n",
        "        Consequente.append('')\n",
        "        suporte.append(s)\n",
        "\n",
        "RegrasFinais = pd.DataFrame({'Antecedente': Antecedente, 'Consequente': Consequente, 'suporte': suporte})\n",
        "\n",
        "print(RegrasFinais)\n"
      ]
    },
    {
      "cell_type": "markdown",
      "source": [
        "# Questão 04"
      ],
      "metadata": {
        "id": "wpW_WWk74SBV"
      }
    },
    {
      "cell_type": "code",
      "source": [
        "!pip install apyori\n",
        "\n",
        "import pandas as pd\n",
        "from apyori import apriori\n",
        "\n",
        "base = pd.read_csv('/content/sample_data/pasta de dente python SIM.csv', ';', encoding='cp1252', header=None)\n",
        "\n",
        "# Preparando a lista de todos os itens distintos no dataset\n",
        "all_items = set()\n",
        "for i in range(len(base)):\n",
        "    transacao = [str(base.values[i, j]) for j in range(base.shape[1])]\n",
        "    all_items.update(transacao)\n",
        "\n",
        "# Gerando todas as combinações possíveis de itens\n",
        "possible_combinations = []\n",
        "for item in all_items:\n",
        "    for other_item in all_items:\n",
        "        if item != other_item:\n",
        "            possible_combinations.append((item, other_item))\n",
        "\n",
        "# Função para calcular o suporte de uma combinação\n",
        "def calculate_support(combination, transactions):\n",
        "    count = 0\n",
        "    for transaction in transactions:\n",
        "        if all(item in transaction for item in combination):\n",
        "            count += 1\n",
        "    return count / len(transactions)\n",
        "\n",
        "transacoes = []\n",
        "for i in range(len(base)):\n",
        "    transacoes.append([str(base.values[i, j]) for j in range(base.shape[1])])\n",
        "\n",
        "Antecedente = []\n",
        "Consequente = []\n",
        "suporte = []\n",
        "\n",
        "for combination in possible_combinations:\n",
        "    support = calculate_support(combination, transacoes)\n",
        "    if support >= 0.6:  # Ajuste o valor mínimo de suporte conforme necessário\n",
        "        Antecedente.append(combination[0])\n",
        "        Consequente.append(combination[1])\n",
        "        suporte.append(support)\n",
        "\n",
        "RegrasFinais = pd.DataFrame({'Antecedente': Antecedente, 'Consequente': Consequente, 'suporte': suporte})\n",
        "\n",
        "print(RegrasFinais)\n"
      ],
      "metadata": {
        "id": "qYIns5Ee4Upu"
      },
      "execution_count": null,
      "outputs": []
    }
  ]
}
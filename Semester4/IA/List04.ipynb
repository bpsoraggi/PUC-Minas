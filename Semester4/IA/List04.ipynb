{
  "nbformat": 4,
  "nbformat_minor": 0,
  "metadata": {
    "colab": {
      "provenance": [],
      "collapsed_sections": [
        "gJxydBW_fCv2",
        "2UUXw4k6hioA",
        "7Q2lJLNnfS6U",
        "nukbG7zNfbpx",
        "XiIIsStHh0sC",
        "fogs0Gka2Jlr",
        "hPXwhvOO2phN",
        "twkQf9Zk2rrd"
      ]
    },
    "kernelspec": {
      "name": "python3",
      "display_name": "Python 3"
    },
    "language_info": {
      "name": "python"
    }
  },
  "cells": [
    {
      "cell_type": "markdown",
      "source": [
        "# Questão 2: Implementação do Naive Bayes em Python:"
      ],
      "metadata": {
        "id": "gJxydBW_fCv2"
      }
    },
    {
      "cell_type": "code",
      "execution_count": null,
      "metadata": {
        "id": "vNdPm_jpUi64"
      },
      "outputs": [],
      "source": [
        "import pandas as pd\n",
        "from sklearn.model_selection import train_test_split\n",
        "from sklearn.naive_bayes import GaussianNB\n",
        "from sklearn.preprocessing import LabelEncoder\n",
        "from sklearn.metrics import accuracy_score\n",
        "\n",
        "# 1: Ler o csv\n",
        "colunas = ['Aparencia', 'Temperatura', 'Umidade', 'Ventando', 'Jogar']\n",
        "data = pd.read_csv(\"/content/jogar.csv\", names=colunas, skiprows=1)\n",
        "\n",
        "\n",
        "# 2: Pre processamento dos dados\n",
        "# string > numerico\n",
        "labelEnc = {}\n",
        "colunasCategoricas = ['Aparencia', 'Temperatura', 'Umidade', 'Ventando']\n",
        "\n",
        "for col in colunasCategoricas:\n",
        "    labelEnc[col] = LabelEncoder()\n",
        "    data[col] = labelEnc[col].fit_transform(data[col])\n",
        "\n",
        "# colunas e classe\n",
        "X = data[['Aparencia', 'Temperatura', 'Umidade', 'Ventando']]\n",
        "y = data['Jogar']\n",
        "\n",
        "# 3: split\n",
        "X_train, X_test, y_train, y_test = train_test_split(X, y, test_size=0.2, random_state=42)\n",
        "\n",
        "# 4: Criar e treinar\n",
        "nb_classifier = GaussianNB()\n",
        "nb_classifier.fit(X_train, y_train)\n",
        "\n",
        "# 5: Testando com o registro pedido\n",
        "teste = pd.DataFrame({'Aparencia': ['chuva'],\n",
        "                             'Temperatura': ['fria'],\n",
        "                             'Umidade': ['normal'],\n",
        "                             'Ventando': ['sim']})\n",
        "\n",
        "# Codificando registro de teste\n",
        "for col in colunasCategoricas:\n",
        "    teste[col] = labelEnc[col].transform(teste[col])\n",
        "\n",
        "# Prever resultado\n",
        "prediction = nb_classifier.predict(teste)\n",
        "\n",
        "y_pred = nb_classifier.predict(X_test)\n",
        "accuracy = accuracy_score(y_test, y_pred)\n",
        "print(f'Precisao: {accuracy:.2f}')\n",
        "\n",
        "# Printar resultado\n",
        "print(f'Previsao para o registro: {\"sim\" if prediction[0] == 1 else \"nao\"}')\n"
      ]
    },
    {
      "cell_type": "markdown",
      "source": [
        "# Questão 3\n"
      ],
      "metadata": {
        "id": "2UUXw4k6hioA"
      }
    },
    {
      "cell_type": "markdown",
      "source": [
        "## Implementação do RandomForest em Python"
      ],
      "metadata": {
        "id": "7Q2lJLNnfS6U"
      }
    },
    {
      "cell_type": "code",
      "source": [
        "import pandas as pd\n",
        "from sklearn.model_selection import train_test_split\n",
        "from sklearn.ensemble import RandomForestClassifier\n",
        "from sklearn.preprocessing import LabelEncoder\n",
        "from sklearn.metrics import accuracy_score\n",
        "\n",
        "# 1: Ler csv\n",
        "csv_path = \"/content/jogar.csv\"\n",
        "column_names = ['Aparencia', 'Temperatura', 'Umidade', 'Ventando', 'Jogar']\n",
        "data = pd.read_csv(csv_path, names=column_names, sep=',', skiprows=1)\n",
        "\n",
        "# 2: Preprocessamento\n",
        "# string > numerico\n",
        "label_encoders = {}\n",
        "categorical_cols = ['Aparencia', 'Temperatura', 'Umidade', 'Ventando']\n",
        "\n",
        "for col in categorical_cols:\n",
        "    label_encoders[col] = LabelEncoder()\n",
        "    data[col] = label_encoders[col].fit_transform(data[col])\n",
        "\n",
        "# colunas e classe\n",
        "X = data[['Aparencia', 'Temperatura', 'Umidade', 'Ventando']]\n",
        "y = data['Jogar']\n",
        "\n",
        "# 3: Split\n",
        "X_train, X_test, y_train, y_test = train_test_split(X, y, test_size=0.2, random_state=42)\n",
        "\n",
        "# 4: Criar e treinar\n",
        "rf_classifier = RandomForestClassifier(random_state=42)\n",
        "rf_classifier.fit(X_train, y_train)\n",
        "\n",
        "# 5: Testar algoritmo e calcular accuracy\n",
        "y_pred = rf_classifier.predict(X_test)\n",
        "accuracy = accuracy_score(y_test, y_pred)\n",
        "print(f'Precisao: {accuracy:.2f}')\n",
        "\n",
        "# 6: Testando com o registro pedido\n",
        "test_record = pd.DataFrame({'Aparencia': ['chuva'],\n",
        "                             'Temperatura': ['fria'],\n",
        "                             'Umidade': ['normal'],\n",
        "                             'Ventando': ['sim']})\n",
        "\n",
        "# Codificando registro de teste\n",
        "for col in categorical_cols:\n",
        "    test_record[col] = label_encoders[col].transform(test_record[col])\n",
        "\n",
        "# Prever resultado\n",
        "prediction = rf_classifier.predict(test_record)\n",
        "\n",
        "# Printar previsao\n",
        "print(f'Previsao para o registro: {\"sim\" if prediction[0] == 1 else \"nao\"}')\n"
      ],
      "metadata": {
        "colab": {
          "base_uri": "https://localhost:8080/"
        },
        "id": "XYGbawwddJ5_",
        "outputId": "9f003bd9-2c9a-47e5-daf0-42f5d65abf7f"
      },
      "execution_count": null,
      "outputs": [
        {
          "output_type": "stream",
          "name": "stdout",
          "text": [
            "Accuracy: 0.67\n",
            "Prediction for the test record: nao\n"
          ]
        }
      ]
    },
    {
      "cell_type": "markdown",
      "source": [
        "## RandomSearch"
      ],
      "metadata": {
        "id": "nukbG7zNfbpx"
      }
    },
    {
      "cell_type": "code",
      "source": [
        "from sklearn.model_selection import RandomizedSearchCV\n",
        "from scipy.stats import randint\n",
        "\n",
        "# Definir hiperparametros\n",
        "param_dist = {\n",
        "    'n_estimators': randint(10, 200),\n",
        "    'max_depth': [None] + list(randint(1, 20).rvs(10)),\n",
        "    'min_samples_split': randint(2, 11)\n",
        "}\n",
        "\n",
        "rf_classifier = RandomForestClassifier(random_state=42)\n",
        "\n",
        "# Inicializar\n",
        "random_search = RandomizedSearchCV(estimator=rf_classifier, param_distributions=param_dist, n_iter=20, cv=5, random_state=42, n_jobs=-1)\n",
        "random_search.fit(X_train, y_train)\n",
        "\n",
        "# Printar\n",
        "print(\"Melhores hiperparametros:\")\n",
        "print(random_search.best_params_)\n",
        "\n",
        "# Testar modelo com novos hiperparametros\n",
        "best_rf_classifier = random_search.best_estimator_\n",
        "y_pred = best_rf_classifier.predict(X_test)\n",
        "accuracy = accuracy_score(y_test, y_pred)\n",
        "print(f'Precisao com melhores hiperparametros: {accuracy:.2f}')\n"
      ],
      "metadata": {
        "colab": {
          "base_uri": "https://localhost:8080/"
        },
        "id": "Vn8ajotCePvx",
        "outputId": "d3e5ac60-c317-45f2-ec97-6c36e023e19c"
      },
      "execution_count": null,
      "outputs": [
        {
          "output_type": "stream",
          "name": "stderr",
          "text": [
            "/usr/local/lib/python3.10/dist-packages/sklearn/model_selection/_split.py:700: UserWarning: The least populated class in y has only 4 members, which is less than n_splits=5.\n",
            "  warnings.warn(\n"
          ]
        },
        {
          "output_type": "stream",
          "name": "stdout",
          "text": [
            "Melhores hiperparametros:\n",
            "{'max_depth': 3, 'min_samples_split': 5, 'n_estimators': 73}\n",
            "Accuracy com melhores hiperparametros: 0.33\n"
          ]
        }
      ]
    },
    {
      "cell_type": "markdown",
      "source": [
        "## GridSearch"
      ],
      "metadata": {
        "id": "ZYJ6Q4uBffG6"
      }
    },
    {
      "cell_type": "code",
      "source": [
        "from sklearn.model_selection import GridSearchCV\n",
        "\n",
        "# Definir hiperparametros\n",
        "param_grid = {\n",
        "    'n_estimators': [50, 100, 200],\n",
        "    'max_depth': [None, 10, 20, 30],\n",
        "    'min_samples_split': [2, 5, 10]\n",
        "}\n",
        "\n",
        "rf_classifier = RandomForestClassifier(random_state=42)\n",
        "\n",
        "# Inicializar\n",
        "grid_search = GridSearchCV(estimator=rf_classifier, param_grid=param_grid, cv=5, n_jobs=-1)\n",
        "grid_search.fit(X_train, y_train)\n",
        "\n",
        "# Printar\n",
        "print(\"Melhores hiperparametros:\")\n",
        "print(grid_search.best_params_)\n",
        "\n",
        "# Testar modelo com novos hiperparametros\n",
        "best_rf_classifier = grid_search.best_estimator_\n",
        "y_pred = best_rf_classifier.predict(X_test)\n",
        "accuracy = accuracy_score(y_test, y_pred)\n",
        "print(f'Accuracy com Melhores hiperparametros: {accuracy:.2f}')\n"
      ],
      "metadata": {
        "colab": {
          "base_uri": "https://localhost:8080/"
        },
        "id": "Jm9QSP32et8K",
        "outputId": "c0e36b37-0056-4741-b5d6-bf04de96c361"
      },
      "execution_count": null,
      "outputs": [
        {
          "output_type": "stream",
          "name": "stderr",
          "text": [
            "/usr/local/lib/python3.10/dist-packages/sklearn/model_selection/_split.py:700: UserWarning: The least populated class in y has only 4 members, which is less than n_splits=5.\n",
            "  warnings.warn(\n"
          ]
        },
        {
          "output_type": "stream",
          "name": "stdout",
          "text": [
            "Melhores hiperparametros:\n",
            "{'max_depth': None, 'min_samples_split': 5, 'n_estimators': 50}\n",
            "Accuracy com Melhores hiperparametros: 0.33\n"
          ]
        }
      ]
    },
    {
      "cell_type": "markdown",
      "source": [
        "# Questão 4"
      ],
      "metadata": {
        "id": "XiIIsStHh0sC"
      }
    },
    {
      "cell_type": "markdown",
      "source": [
        "## Bagging"
      ],
      "metadata": {
        "id": "fogs0Gka2Jlr"
      }
    },
    {
      "cell_type": "code",
      "source": [
        "import pandas as pd\n",
        "from sklearn.model_selection import train_test_split\n",
        "from sklearn.ensemble import BaggingClassifier\n",
        "from sklearn.tree import DecisionTreeClassifier\n",
        "from sklearn.metrics import accuracy_score\n",
        "\n",
        "# Carregar o conjunto de dados de treinamento\n",
        "train_data = pd.read_csv('/content/train.csv')\n",
        "\n",
        "# Carregar o conjunto de dados de teste\n",
        "test_data = pd.read_csv('/content/test.csv')\n",
        "\n",
        "# Definir recursos (X) e alvo (y)\n",
        "X_train = train_data.drop(columns=['Survived'])\n",
        "y_train = train_data['Survived']\n",
        "\n",
        "# Pre-processamento\n",
        "\n",
        "X_train = X_train.drop(columns=['Name', 'Ticket', 'Cabin'])\n",
        "X_train['Sex'] = X_train['Sex'].map({'male': 0, 'female': 1})\n",
        "X_train['Embarked'] = X_train['Embarked'].map({'S': 0, 'C': 1, 'Q': 2})\n",
        "X_train = X_train.fillna(0)  # Preencher valores ausentes com zeros\n",
        "\n",
        "# Dividir os dados em conjuntos de treinamento e validacao\n",
        "X_train, X_val, y_train, y_val = train_test_split(X_train, y_train, test_size=0.2, random_state=42)\n",
        "\n",
        "# Criar um BaggingClassifier com um estimador base DecisionTree\n",
        "base_classifier = DecisionTreeClassifier()\n",
        "bagging_classifier = BaggingClassifier(base_classifier, n_estimators=100, random_state=42)\n",
        "\n",
        "# Ajustar o BaggingClassifier aos dados de treinamento\n",
        "bagging_classifier.fit(X_train, y_train)\n",
        "\n",
        "# Fazer previsoes no conjunto de validação\n",
        "y_pred = bagging_classifier.predict(X_val)\n",
        "\n",
        "# Calcular a precisao\n",
        "accuracy = accuracy_score(y_val, y_pred)\n",
        "print(f'Precisao: {accuracy:.2f}')\n"
      ],
      "metadata": {
        "colab": {
          "base_uri": "https://localhost:8080/"
        },
        "id": "tYSn5xiEh4eY",
        "outputId": "dcbb4fb0-e7a7-4118-b7c6-e68e4ab0317b"
      },
      "execution_count": null,
      "outputs": [
        {
          "output_type": "stream",
          "name": "stdout",
          "text": [
            "Precisão: 0.82\n"
          ]
        }
      ]
    },
    {
      "cell_type": "markdown",
      "source": [
        "## Boosting"
      ],
      "metadata": {
        "id": "hPXwhvOO2phN"
      }
    },
    {
      "cell_type": "code",
      "source": [
        "import pandas as pd\n",
        "from sklearn.model_selection import train_test_split\n",
        "from sklearn.ensemble import AdaBoostClassifier  # Importar o AdaBoost\n",
        "from sklearn.tree import DecisionTreeClassifier\n",
        "from sklearn.metrics import accuracy_score\n",
        "\n",
        "# Carregar o conjunto de dados de treinamento\n",
        "train_data = pd.read_csv('/content/train.csv')\n",
        "\n",
        "# Carregar o conjunto de dados de teste\n",
        "test_data = pd.read_csv('/content/test.csv')\n",
        "\n",
        "# Definir recursos (X) e alvo (y)\n",
        "X_train = train_data.drop(columns=['Survived'])\n",
        "y_train = train_data['Survived']\n",
        "\n",
        "# Pre-processamento\n",
        "\n",
        "X_train = X_train.drop(columns=['Name', 'Ticket', 'Cabin'])\n",
        "X_train['Sex'] = X_train['Sex'].map({'male': 0, 'female': 1})\n",
        "X_train['Embarked'] = X_train['Embarked'].map({'S': 0, 'C': 1, 'Q': 2})\n",
        "X_train = X_train.fillna(0)  # Preencher valores ausentes com zeros\n",
        "\n",
        "# Dividir os dados em conjuntos de treinamento e validacao\n",
        "X_train, X_val, y_train, y_val = train_test_split(X_train, y_train, test_size=0.2, random_state=42)\n",
        "\n",
        "# Criar um AdaBoostClassifier com um estimador base DecisionTree\n",
        "base_classifier = DecisionTreeClassifier(max_depth=1)  # Estimador base fraco\n",
        "adaboost_classifier = AdaBoostClassifier(base_classifier, n_estimators=100, random_state=42)\n",
        "\n",
        "# Ajustar o AdaBoostClassifier aos dados de treinamento\n",
        "adaboost_classifier.fit(X_train, y_train)\n",
        "\n",
        "# Fazer previsoes no conjunto de validação\n",
        "y_pred = adaboost_classifier.predict(X_val)\n",
        "\n",
        "# Calcular a precisao\n",
        "accuracy = accuracy_score(y_val, y_pred)\n",
        "print(f'Precisao: {accuracy:.2f}')\n"
      ],
      "metadata": {
        "colab": {
          "base_uri": "https://localhost:8080/"
        },
        "id": "_PPh0zYR2MFx",
        "outputId": "ebe52361-330c-437e-8b48-755eec86399a"
      },
      "execution_count": null,
      "outputs": [
        {
          "output_type": "stream",
          "name": "stdout",
          "text": [
            "Precisão: 0.78\n"
          ]
        }
      ]
    },
    {
      "cell_type": "markdown",
      "source": [
        "## Random Forest"
      ],
      "metadata": {
        "id": "twkQf9Zk2rrd"
      }
    },
    {
      "cell_type": "code",
      "source": [
        "import pandas as pd\n",
        "from sklearn.model_selection import train_test_split\n",
        "from sklearn.ensemble import RandomForestClassifier\n",
        "from sklearn.metrics import accuracy_score\n",
        "\n",
        "# Carregar o conjunto de dados de treinamento\n",
        "train_data = pd.read_csv('train.csv')\n",
        "\n",
        "# Carregar o conjunto de dados de teste\n",
        "test_data = pd.read_csv('test.csv')\n",
        "\n",
        "# Definir recursos (X) e alvo (y)\n",
        "X_train = train_data.drop(columns=['Survived'])\n",
        "y_train = train_data['Survived']\n",
        "\n",
        "# Pre-processamento\n",
        "\n",
        "X_train = X_train.drop(columns=['Name', 'Ticket', 'Cabin'])\n",
        "X_train['Sex'] = X_train['Sex'].map({'male': 0, 'female': 1})\n",
        "X_train['Embarked'] = X_train['Embarked'].map({'S': 0, 'C': 1, 'Q': 2})\n",
        "X_train = X_train.fillna(0)  # Preencher valores ausentes com zeros\n",
        "\n",
        "# Dividir os dados em conjuntos de treinamento e validacao\n",
        "X_train, X_val, y_train, y_val = train_test_split(X_train, y_train, test_size=0.2, random_state=42)\n",
        "\n",
        "# Criar um RandomForestClassifier\n",
        "random_forest_classifier = RandomForestClassifier(n_estimators=100, random_state=42)\n",
        "\n",
        "# Ajustar o RandomForestClassifier aos dados de treinamento\n",
        "random_forest_classifier.fit(X_train, y_train)\n",
        "\n",
        "# Fazer previsões no conjunto de validacao\n",
        "y_pred = random_forest_classifier.predict(X_val)\n",
        "\n",
        "# Calcular a precisao\n",
        "accuracy = accuracy_score(y_val, y_pred)\n",
        "print(f'Precisao: {accuracy:.2f}')\n"
      ],
      "metadata": {
        "colab": {
          "base_uri": "https://localhost:8080/"
        },
        "id": "63cunpLI2uFd",
        "outputId": "2599bd15-8b75-402c-8d97-ab6cc9e5af43"
      },
      "execution_count": null,
      "outputs": [
        {
          "output_type": "stream",
          "name": "stdout",
          "text": [
            "Precisão: 0.82\n"
          ]
        }
      ]
    }
  ]
}
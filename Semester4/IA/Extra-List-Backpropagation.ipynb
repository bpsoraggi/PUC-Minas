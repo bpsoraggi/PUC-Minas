{
  "nbformat": 4,
  "nbformat_minor": 0,
  "metadata": {
    "colab": {
      "provenance": []
    },
    "kernelspec": {
      "name": "python3",
      "display_name": "Python 3"
    },
    "language_info": {
      "name": "python"
    }
  },
  "cells": [
    {
      "cell_type": "markdown",
      "source": [
        "# Questão 01"
      ],
      "metadata": {
        "id": "QhOw4Psi7J0E"
      }
    },
    {
      "cell_type": "code",
      "execution_count": null,
      "metadata": {
        "colab": {
          "base_uri": "https://localhost:8080/"
        },
        "id": "v3zW7vAo6_Na",
        "outputId": "7f4d8707-eeb9-4668-efc0-1f36cf765bbf"
      },
      "outputs": [
        {
          "output_type": "stream",
          "name": "stdout",
          "text": [
            "Escolha a operação (AND, OR, XOR): and\n",
            "Digite o número de entradas (2 a 10): 2\n",
            "Entradas: [[0 1]], Saída Prevista (AND): [[0.00595662]]\n"
          ]
        }
      ],
      "source": [
        "import numpy as np\n",
        "\n",
        "def sigmoid(x):\n",
        "    return 1 / (1 + np.exp(-x))\n",
        "\n",
        "def sigmoid_derivative(x):\n",
        "    return x * (1 - x)\n",
        "\n",
        "def initialize_weights(input_size, output_size):\n",
        "    return 2 * np.random.random((input_size, output_size)) - 1\n",
        "\n",
        "def train_neural_network(inputs, labels, learning_rate, epochs):\n",
        "    input_size = len(inputs[0])\n",
        "    output_size = len(labels[0])\n",
        "\n",
        "    weights_hidden = initialize_weights(input_size, 4)\n",
        "    weights_output = initialize_weights(4, output_size)\n",
        "\n",
        "    for epoch in range(epochs):\n",
        "        hidden_layer_input = np.dot(inputs, weights_hidden)\n",
        "        hidden_layer_output = sigmoid(hidden_layer_input)\n",
        "\n",
        "        output_layer_input = np.dot(hidden_layer_output, weights_output)\n",
        "        predicted_output = sigmoid(output_layer_input)\n",
        "\n",
        "        output_error = labels - predicted_output\n",
        "        output_delta = output_error * sigmoid_derivative(predicted_output)\n",
        "\n",
        "        hidden_layer_error = output_delta.dot(weights_output.T)\n",
        "        hidden_layer_delta = hidden_layer_error * sigmoid_derivative(hidden_layer_output)\n",
        "\n",
        "        weights_output += hidden_layer_output.T.dot(output_delta) * learning_rate\n",
        "        weights_hidden += inputs.T.dot(hidden_layer_delta) * learning_rate\n",
        "\n",
        "    return weights_hidden, weights_output\n",
        "\n",
        "def predict(inputs, weights_hidden, weights_output):\n",
        "    hidden_layer_output = sigmoid(np.dot(inputs, weights_hidden))\n",
        "    predicted_output = sigmoid(np.dot(hidden_layer_output, weights_output))\n",
        "    return predicted_output\n",
        "\n",
        "def get_user_input():\n",
        "    operation = input(\"Escolha a operação (AND, OR, XOR): \").upper()\n",
        "    num_inputs = int(input(\"Digite o número de entradas (2 a 10): \"))\n",
        "    return num_inputs, operation\n",
        "\n",
        "def create_data(num_inputs, operation):\n",
        "    inputs = np.random.randint(2, size=(2**num_inputs, num_inputs))\n",
        "    labels = []\n",
        "\n",
        "    for row in inputs:\n",
        "        if operation == \"AND\":\n",
        "            labels.append([np.all(row)])\n",
        "        elif operation == \"OR\":\n",
        "            labels.append([np.any(row)])\n",
        "        elif operation == \"XOR\":\n",
        "            labels.append([np.sum(row) % 2])\n",
        "\n",
        "    return inputs, np.array(labels)\n",
        "\n",
        "def main():\n",
        "    num_inputs, operation = get_user_input()\n",
        "    inputs, labels = create_data(num_inputs, operation)\n",
        "\n",
        "    learning_rate = 0.5\n",
        "    epochs = 10000\n",
        "\n",
        "    weights_hidden, weights_output = train_neural_network(inputs, labels, learning_rate, epochs)\n",
        "\n",
        "    test_input = np.random.randint(2, size=(1, num_inputs))\n",
        "    predicted_output = predict(test_input, weights_hidden, weights_output)\n",
        "\n",
        "    print(f\"Entradas: {test_input}, Saída Prevista ({operation}): {predicted_output}\")\n",
        "\n",
        "if __name__ == \"__main__\":\n",
        "    main()\n"
      ]
    }
  ]
}